{
 "cells": [
  {
   "cell_type": "code",
   "execution_count": 7,
   "metadata": {},
   "outputs": [],
   "source": [
    "from utils import utils \n",
    "import pandas as pd\n",
    "import numpy as np\n",
    "import matplotlib.pyplot as pl\n",
    "from sklearn.model_selection import train_test_split \n",
    "from sklearn.model_selection import cross_val_score\n",
    "from sklearn.ensemble import RandomForestClassifier\n",
    "from sklearn.datasets import make_classification\n"
   ]
  },
  {
   "cell_type": "code",
   "execution_count": 8,
   "metadata": {},
   "outputs": [],
   "source": [
    "df=utils.generate_synthetic_data(duration_cycle=5, start_day=25, year=2021, start_month_index=1, number_of_cycle=20, period_duration=30)\n",
    "periods_data=utils.calculate_datatime(df)\n",
    "features, labels=utils.generate_final_features(df)"
   ]
  },
  {
   "cell_type": "code",
   "execution_count": 9,
   "metadata": {},
   "outputs": [],
   "source": [
    "\n",
    "x_train, x_test, y_train, y_test  = train_test_split(features, labels, test_size=0.5, random_state=0) \n",
    "train_y=np.array(y_train)\n",
    "train_x=np.array(x_train)\n",
    "test_x=np.array(x_test)\n",
    "test_y=np.array(y_test)\n",
    "train_x = train_x.reshape((train_x.shape[0],train_x.shape[1]*train_x.shape[2]))\n",
    "train_y=train_y.reshape((train_y.shape[0], train_y.shape[1]*1))\n",
    "test_x = test_x.reshape((test_x.shape[0],test_x.shape[1]*test_x.shape[2]))\n",
    "test_y = test_y.reshape((test_y.shape[0],test_y.shape[1]*1))\n"
   ]
  },
  {
   "cell_type": "code",
   "execution_count": null,
   "metadata": {},
   "outputs": [],
   "source": [
    "model_RD=RandomForestClassifier()\n",
    "model_RD.fit(train_x, train_y)\n",
    "y_pred=model_RD.predict(test_x)\n",
    "output_red=[(int)]\n",
    "\n",
    "aqui me pegou"
   ]
  }
 ],
 "metadata": {
  "kernelspec": {
   "display_name": "Python 3.10.5 ('cilab': venv)",
   "language": "python",
   "name": "python3"
  },
  "language_info": {
   "codemirror_mode": {
    "name": "ipython",
    "version": 3
   },
   "file_extension": ".py",
   "mimetype": "text/x-python",
   "name": "python",
   "nbconvert_exporter": "python",
   "pygments_lexer": "ipython3",
   "version": "3.10.5"
  },
  "orig_nbformat": 4,
  "vscode": {
   "interpreter": {
    "hash": "8ec946c32b6cf4efddd21bb7dfe4e9e1babcc3d8bc9d7bd3a6bbac34dab883b1"
   }
  }
 },
 "nbformat": 4,
 "nbformat_minor": 2
}
