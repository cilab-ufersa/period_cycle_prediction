{
 "cells": [
  {
   "cell_type": "code",
   "execution_count": null,
   "metadata": {},
   "outputs": [
    {
     "ename": "",
     "evalue": "",
     "output_type": "error",
     "traceback": [
      "\u001b[1;31mFailed to start the Kernel. \n",
      "\u001b[1;31mUnable to start Kernel 'cilab (Python 3.10.7)' due to connection timeout. \n",
      "\u001b[1;31mView Jupyter <a href='command:jupyter.viewOutput'>log</a> for further details."
     ]
    }
   ],
   "source": [
    "# import necessary libraries\n",
    "import pandas as pd\n",
    "import numpy as np\n",
    "import matplotlib.pyplot as plt\n",
    "import seaborn as sns\n",
    "from utils.utils import generate_synthetic_data, generate_final_features, split_dataset"
   ]
  },
  {
   "cell_type": "code",
   "execution_count": null,
   "metadata": {},
   "outputs": [
    {
     "ename": "",
     "evalue": "",
     "output_type": "error",
     "traceback": [
      "\u001b[1;31mFailed to start the Kernel. \n",
      "\u001b[1;31mUnable to start Kernel 'cilab (Python 3.10.7)' due to connection timeout. \n",
      "\u001b[1;31mView Jupyter <a href='command:jupyter.viewOutput'>log</a> for further details."
     ]
    }
   ],
   "source": [
    "# generate the synthetic data\n",
    "total_regular_cycle_data = generate_synthetic_data(duration_cycle=5, start_day=1, year=2020, start_month_index=1, number_of_cycle=24, period_duration=30, cycle_interval=[5,5], period_interval=[28, 30])\n",
    "regular_cycle_data = generate_synthetic_data(duration_cycle=5, start_day=1, year=2020, start_month_index=1, number_of_cycle=24, period_duration=30, cycle_interval=[5, 6], period_interval=[28, 35])\n",
    "irregular_cycle_data = generate_synthetic_data(duration_cycle=5, start_day=1, year=2020, start_month_index=1, number_of_cycle=24, period_duration=30, cycle_interval=[4, 8], period_interval=[28, 49])"
   ]
  },
  {
   "cell_type": "code",
   "execution_count": null,
   "metadata": {},
   "outputs": [],
   "source": [
    "# load the data\n",
    "total_regular_cycle_data = pd.read_csv('total_regular_cycle_data.csv')\n",
    "regular_cycle_data = pd.read_csv('regular_cycle_data.csv')\n",
    "irregular_cycle_data = pd.read_csv('irregular_cycle_data.csv')"
   ]
  },
  {
   "cell_type": "code",
   "execution_count": null,
   "metadata": {},
   "outputs": [],
   "source": [
    "# generate the final features\n",
    "features_total_regular_cycle_data, labels_total_regular_cycle_data = generate_final_features(total_regular_cycle_data)\n",
    "features_regular_cycle_data, labels_regular_cycle_data = generate_final_features(regular_cycle_data)\n",
    "features_irregular_cycle_data, labels_irregular_cycle_data = generate_final_features(irregular_cycle_data)\n"
   ]
  },
  {
   "cell_type": "code",
   "execution_count": null,
   "metadata": {},
   "outputs": [],
   "source": [
    "# slice the data with split_dataset function\n",
    "input_train_total_regular_cycle, input_test_total_regular_cycle, output_train_total_regular_cycle, output_test_total_regular_cycle = split_dataset(features_total_regular_cycle_data, labels_total_regular_cycle_data)\n",
    "input_train_regular_cycle, input_test_regular_cycle, output_train_regular_cycle, output_test_regular_cycle = split_dataset(features_regular_cycle_data, labels_regular_cycle_data)\n",
    "input_train_irregular_cycle, input_test_irregular_cycle, output_train_irregular_cycle, output_test_irregular_cycle = split_dataset(features_irregular_cycle_data, labels_irregular_cycle_data)\n"
   ]
  },
  {
   "cell_type": "code",
   "execution_count": null,
   "metadata": {},
   "outputs": [],
   "source": [
    "#plot the distribution of the data with distplot\n",
    "sns.distplot(features_total_regular_cycle_data[:,0], hist=False, kde=True, kde_kws={'shade': True, 'linewidth': 3}, label='Total Regular Cycle')\n",
    "plt.title('Case 1')\n",
    "plt.xlabel('Menstrual Cycle Duration (Days)')\n",
    "plt.ylabel('Density')"
   ]
  },
  {
   "cell_type": "code",
   "execution_count": null,
   "metadata": {},
   "outputs": [],
   "source": [
    "sns.distplot(tuple(train_y[:,0]), kde=True, fit=st.norm)   # Label distribution\n",
    "plt.xlabel('Length of the menstrual cycle')\n",
    "plt.show()\n",
    "\n",
    "sns.distplot(tuple(train_y[:,1]), kde=True, fit=st.norm)   # Label distribution\n",
    "plt.xlabel('Length of the period')\n",
    "plt.show()"
   ]
  }
 ],
 "metadata": {
  "kernelspec": {
   "display_name": "cilab",
   "language": "python",
   "name": "python3"
  },
  "language_info": {
   "name": "python",
   "version": "3.10.7"
  },
  "orig_nbformat": 4,
  "vscode": {
   "interpreter": {
    "hash": "db30be8d3737aa80edf161684c13650df139a6b16e3a6f806a23c612cab06771"
   }
  }
 },
 "nbformat": 4,
 "nbformat_minor": 2
}
