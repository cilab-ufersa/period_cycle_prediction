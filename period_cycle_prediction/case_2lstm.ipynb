{
 "cells": [
  {
   "cell_type": "code",
   "execution_count": null,
   "metadata": {},
   "outputs": [
    {
     "ename": "",
     "evalue": "",
     "output_type": "error",
     "traceback": [
      "\u001b[1;31mFailed to start the Kernel. \n",
      "\u001b[1;31mUnable to start Kernel 'cilab (Python)' due to connection timeout. \n",
      "\u001b[1;31mView Jupyter <a href='command:jupyter.viewOutput'>log</a> for further details."
     ]
    }
   ],
   "source": [
    "import numpy as np\n",
    "import pandas as pd\n",
    "import matplotlib.pyplot as plt\n",
    "import tensorflow as tf\n",
    "from tensorflow.keras.models import Sequential\n",
    "from tensorflow.keras.layers import Dense, LSTM, Dropout\n",
    "from sklearn.preprocessing import MinMaxScaler\n",
    "from sklearn.metrics import mean_squared_error\n",
    "from sklearn.metrics import mean_absolute_error\n",
    "from sklearn.metrics import r2_score\n",
    "from sklearn.metrics import explained_variance_score\n",
    "from sklearn.metrics import max_error\n",
    "from utils.utils import generate_synthetic_data, generate_final_features, split_dataset\n",
    "import warnings \n",
    "warnings.filterwarnings(\"ignore\")\n"
   ]
  },
  {
   "cell_type": "code",
   "execution_count": null,
   "metadata": {},
   "outputs": [],
   "source": [
    "regular_cycle_data = pd.read_csv('dataset\\\\regular_cycle_data.csv')\n",
    "features_regular_cycle_data, labels_regular_cycle_data = generate_final_features(regular_cycle_data)\n",
    "input_train_regular_cycle, input_test_regular_cycle, output_train_regular_cycle, output_test_regular_cycle = split_dataset(features_regular_cycle_data, labels_regular_cycle_data)"
   ]
  },
  {
   "cell_type": "code",
   "execution_count": null,
   "metadata": {},
   "outputs": [],
   "source": [
    "# create and fit the LSTM network\n",
    "n_features = input_train_regular_cycle.shape[2]\n",
    "model = Sequential()\n",
    "model.add(LSTM(64, input_shape=(3, n_features),  activation='tanh'))\n",
    "model.add(Dropout(0.05))\n",
    "model.add(Dense(n_features, activation='relu'))\n",
    "model.summary()"
   ]
  },
  {
   "cell_type": "code",
   "execution_count": null,
   "metadata": {},
   "outputs": [],
   "source": [
    "opt=tf.keras.optimizers.Adam(learning_rate=0.01)\n",
    "model.compile(loss='mean_squared_error', optimizer=opt, run_eagerly=True)\n",
    "# add early stopping\n",
    "early_stopping = tf.keras.callbacks.EarlyStopping( monitor='val_loss', patience=5, restore_best_weights=True)"
   ]
  }
 ],
 "metadata": {
  "kernelspec": {
   "display_name": "cilab",
   "language": "python",
   "name": "python3"
  },
  "language_info": {
   "name": "python",
   "version": "3.10.7"
  },
  "orig_nbformat": 4,
  "vscode": {
   "interpreter": {
    "hash": "db30be8d3737aa80edf161684c13650df139a6b16e3a6f806a23c612cab06771"
   }
  }
 },
 "nbformat": 4,
 "nbformat_minor": 2
}
